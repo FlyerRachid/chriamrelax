{
 "cells": [
  {
   "cell_type": "code",
   "execution_count": 4,
   "id": "77a62621-26ef-4a1f-a780-81a8cd52150c",
   "metadata": {
    "tags": []
   },
   "outputs": [
    {
     "name": "stdout",
     "output_type": "stream",
     "text": [
      "None\n"
     ]
    }
   ],
   "source": [
    "import re\n",
    "EMAIL_REGEX = re.compile(r\"... regex here ...\")\n",
    "print(EMAIL_REGEX.match('rochdinassir5@gmail.com'))"
   ]
  },
  {
   "cell_type": "code",
   "execution_count": null,
   "id": "07758a6f-3735-4260-8cba-96c8d7062b2a",
   "metadata": {},
   "outputs": [],
   "source": []
  },
  {
   "cell_type": "code",
   "execution_count": null,
   "id": "e8431efb-c04d-4eba-8aee-025aeb9d309f",
   "metadata": {},
   "outputs": [],
   "source": []
  },
  {
   "cell_type": "code",
   "execution_count": null,
   "id": "f478ee7d-a574-4109-be2a-3741375fecee",
   "metadata": {},
   "outputs": [],
   "source": []
  }
 ],
 "metadata": {
  "kernelspec": {
   "display_name": "Python 3 (ipykernel)",
   "language": "python",
   "name": "python3"
  },
  "language_info": {
   "codemirror_mode": {
    "name": "ipython",
    "version": 3
   },
   "file_extension": ".py",
   "mimetype": "text/x-python",
   "name": "python",
   "nbconvert_exporter": "python",
   "pygments_lexer": "ipython3",
   "version": "3.10.6"
  }
 },
 "nbformat": 4,
 "nbformat_minor": 5
}
