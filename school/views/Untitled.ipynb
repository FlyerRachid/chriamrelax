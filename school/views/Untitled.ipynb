{
 "cells": [
  {
   "cell_type": "code",
   "execution_count": 10,
   "id": "69fc401c-baeb-42bf-ada3-4c3306ad7879",
   "metadata": {
    "tags": []
   },
   "outputs": [
    {
     "name": "stdout",
     "output_type": "stream",
     "text": [
      "06e3124cab9a4b588a74e792fb81fbcc\n"
     ]
    }
   ],
   "source": [
    "import uuid \n",
    "print(uuid.uuid4().hex)"
   ]
  },
  {
   "cell_type": "code",
   "execution_count": null,
   "id": "382f5fd1-b8d3-4e16-a109-fc62b596a1ac",
   "metadata": {},
   "outputs": [],
   "source": []
  }
 ],
 "metadata": {
  "kernelspec": {
   "display_name": "Python 3 (ipykernel)",
   "language": "python",
   "name": "python3"
  },
  "language_info": {
   "codemirror_mode": {
    "name": "ipython",
    "version": 3
   },
   "file_extension": ".py",
   "mimetype": "text/x-python",
   "name": "python",
   "nbconvert_exporter": "python",
   "pygments_lexer": "ipython3",
   "version": "3.10.6"
  }
 },
 "nbformat": 4,
 "nbformat_minor": 5
}
